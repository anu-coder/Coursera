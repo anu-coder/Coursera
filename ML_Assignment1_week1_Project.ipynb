{
  "nbformat": 4,
  "nbformat_minor": 0,
  "metadata": {
    "colab": {
      "name": "Untitled3.ipynb",
      "provenance": [],
      "authorship_tag": "ABX9TyObFAlLSQC/sLdErDokLimW",
      "include_colab_link": true
    },
    "kernelspec": {
      "name": "python2",
      "display_name": "Python 2"
    }
  },
  "cells": [
    {
      "cell_type": "markdown",
      "metadata": {
        "id": "view-in-github",
        "colab_type": "text"
      },
      "source": [
        "<a href=\"https://colab.research.google.com/github/anu-coder/Coursera/blob/master/ML_Assignment1_week1_Project.ipynb\" target=\"_parent\"><img src=\"https://colab.research.google.com/assets/colab-badge.svg\" alt=\"Open In Colab\"/></a>"
      ]
    },
    {
      "cell_type": "code",
      "metadata": {
        "id": "xx7n5c9X6QTT",
        "colab_type": "code",
        "colab": {
          "base_uri": "https://localhost:8080/",
          "height": 1000
        },
        "outputId": "54342d65-1558-49cc-c81a-ca6471acfd0e"
      },
      "source": [
        "!pip install turicreate"
      ],
      "execution_count": 2,
      "outputs": [
        {
          "output_type": "stream",
          "text": [
            "Collecting turicreate\n",
            "  Using cached https://files.pythonhosted.org/packages/65/c9/98ffdee5249cebc278901ea22adc9a7f3783b2f0a2d29aebc6988b560510/turicreate-6.4-cp27-cp27mu-manylinux1_x86_64.whl\n",
            "Collecting pillow>=5.2.0\n",
            "  Using cached https://files.pythonhosted.org/packages/12/ad/61f8dfba88c4e56196bf6d056cdbba64dc9c5dfdfbc97d02e6472feed913/Pillow-6.2.2-cp27-cp27mu-manylinux1_x86_64.whl\n",
            "Requirement already satisfied: numpy in /usr/local/lib/python2.7/dist-packages (from turicreate) (1.16.4)\n",
            "Requirement already satisfied: requests>=2.9.1 in /usr/local/lib/python2.7/dist-packages (from turicreate) (2.23.0)\n",
            "Collecting tensorflow<2.1.0,>=2.0.0\n",
            "\u001b[?25l  Downloading https://files.pythonhosted.org/packages/17/08/1ff15637a03b1565dd6cb0916b3ca6873db3a1fc69be0ed851be936e5633/tensorflow-2.0.0-cp27-cp27mu-manylinux2010_x86_64.whl (86.3MB)\n",
            "\u001b[K     |████████████████████████████████| 86.3MB 47kB/s \n",
            "\u001b[?25hRequirement already satisfied: prettytable==0.7.2 in /usr/local/lib/python2.7/dist-packages (from turicreate) (0.7.2)\n",
            "Collecting llvmlite==0.31.0\n",
            "\u001b[?25l  Downloading https://files.pythonhosted.org/packages/91/07/90cd9cdd43b287960b16dbf7929bff2267dc0b6647e8e0117a4937b19620/llvmlite-0.31.0-cp27-cp27mu-manylinux1_x86_64.whl (20.2MB)\n",
            "\u001b[K     |████████████████████████████████| 20.2MB 229kB/s \n",
            "\u001b[?25hRequirement already satisfied: pandas>=0.23.2 in /usr/local/lib/python2.7/dist-packages (from turicreate) (0.24.2)\n",
            "Requirement already satisfied: numba<0.51.0 in /usr/local/lib/python2.7/dist-packages (from turicreate) (0.40.1)\n",
            "Requirement already satisfied: decorator>=4.0.9 in /usr/local/lib/python2.7/dist-packages (from turicreate) (4.4.0)\n",
            "Requirement already satisfied: scipy>=1.1.0 in /usr/local/lib/python2.7/dist-packages (from turicreate) (1.2.2)\n",
            "Requirement already satisfied: six>=1.10.0 in /usr/local/lib/python2.7/dist-packages (from turicreate) (1.15.0)\n",
            "Requirement already satisfied: resampy==0.2.1 in /usr/local/lib/python2.7/dist-packages (from turicreate) (0.2.1)\n",
            "Collecting coremltools==3.3\n",
            "\u001b[?25l  Downloading https://files.pythonhosted.org/packages/46/9b/f6feac5d9369c68ee718d3c3140435452773a36ff08ef3bcc4fe378e8676/coremltools-3.3-cp27-none-manylinux1_x86_64.whl (3.4MB)\n",
            "\u001b[K     |████████████████████████████████| 3.4MB 47.0MB/s \n",
            "\u001b[?25hRequirement already satisfied: urllib3!=1.25.0,!=1.25.1,<1.26,>=1.21.1 in /usr/local/lib/python2.7/dist-packages (from requests>=2.9.1->turicreate) (1.24.3)\n",
            "Requirement already satisfied: chardet<4,>=3.0.2 in /usr/local/lib/python2.7/dist-packages (from requests>=2.9.1->turicreate) (3.0.4)\n",
            "Requirement already satisfied: certifi>=2017.4.17 in /usr/local/lib/python2.7/dist-packages (from requests>=2.9.1->turicreate) (2019.6.16)\n",
            "Requirement already satisfied: idna<3,>=2.5 in /usr/local/lib/python2.7/dist-packages (from requests>=2.9.1->turicreate) (2.8)\n",
            "Requirement already satisfied: gast==0.2.2 in /usr/local/lib/python2.7/dist-packages (from tensorflow<2.1.0,>=2.0.0->turicreate) (0.2.2)\n",
            "Requirement already satisfied: grpcio>=1.8.6 in /usr/local/lib/python2.7/dist-packages (from tensorflow<2.1.0,>=2.0.0->turicreate) (1.15.0)\n",
            "Requirement already satisfied: mock>=2.0.0 in /usr/local/lib/python2.7/dist-packages (from tensorflow<2.1.0,>=2.0.0->turicreate) (2.0.0)\n",
            "Collecting tensorboard<2.1.0,>=2.0.0\n",
            "\u001b[?25l  Downloading https://files.pythonhosted.org/packages/a7/3d/993131c622ae34f9401a81526853f2310a4834bd042420a7982fb5bc5fd0/tensorboard-2.0.2-py2-none-any.whl (3.8MB)\n",
            "\u001b[K     |████████████████████████████████| 3.8MB 46.9MB/s \n",
            "\u001b[?25hRequirement already satisfied: wrapt>=1.11.1 in /usr/local/lib/python2.7/dist-packages (from tensorflow<2.1.0,>=2.0.0->turicreate) (1.11.2)\n",
            "Requirement already satisfied: protobuf>=3.6.1 in /usr/local/lib/python2.7/dist-packages (from tensorflow<2.1.0,>=2.0.0->turicreate) (3.8.0)\n",
            "Requirement already satisfied: keras-preprocessing>=1.0.5 in /usr/local/lib/python2.7/dist-packages (from tensorflow<2.1.0,>=2.0.0->turicreate) (1.1.0)\n",
            "Requirement already satisfied: backports.weakref>=1.0rc1; python_version < \"3.4\" in /usr/local/lib/python2.7/dist-packages (from tensorflow<2.1.0,>=2.0.0->turicreate) (1.0.post1)\n",
            "Requirement already satisfied: keras-applications>=1.0.8 in /usr/local/lib/python2.7/dist-packages (from tensorflow<2.1.0,>=2.0.0->turicreate) (1.0.8)\n",
            "Requirement already satisfied: wheel in /usr/local/lib/python2.7/dist-packages (from tensorflow<2.1.0,>=2.0.0->turicreate) (0.35.1)\n",
            "Requirement already satisfied: functools32>=3.2.3 in /usr/local/lib/python2.7/dist-packages (from tensorflow<2.1.0,>=2.0.0->turicreate) (3.2.3.post2)\n",
            "Requirement already satisfied: absl-py>=0.7.0 in /usr/local/lib/python2.7/dist-packages (from tensorflow<2.1.0,>=2.0.0->turicreate) (0.7.1)\n",
            "Requirement already satisfied: opt-einsum>=2.3.2 in /usr/local/lib/python2.7/dist-packages (from tensorflow<2.1.0,>=2.0.0->turicreate) (2.3.2)\n",
            "Requirement already satisfied: termcolor>=1.1.0 in /usr/local/lib/python2.7/dist-packages (from tensorflow<2.1.0,>=2.0.0->turicreate) (1.1.0)\n",
            "Requirement already satisfied: google-pasta>=0.1.6 in /usr/local/lib/python2.7/dist-packages (from tensorflow<2.1.0,>=2.0.0->turicreate) (0.1.7)\n",
            "Requirement already satisfied: enum34>=1.1.6; python_version < \"3.4\" in /usr/local/lib/python2.7/dist-packages (from tensorflow<2.1.0,>=2.0.0->turicreate) (1.1.6)\n",
            "Collecting tensorflow-estimator<2.1.0,>=2.0.0\n",
            "\u001b[?25l  Downloading https://files.pythonhosted.org/packages/fc/08/8b927337b7019c374719145d1dceba21a8bb909b93b1ad6f8fb7d22c1ca1/tensorflow_estimator-2.0.1-py2.py3-none-any.whl (449kB)\n",
            "\u001b[K     |████████████████████████████████| 450kB 48.1MB/s \n",
            "\u001b[?25hRequirement already satisfied: astor>=0.6.0 in /usr/local/lib/python2.7/dist-packages (from tensorflow<2.1.0,>=2.0.0->turicreate) (0.8.0)\n",
            "Requirement already satisfied: pytz>=2011k in /usr/local/lib/python2.7/dist-packages (from pandas>=0.23.2->turicreate) (2018.9)\n",
            "Requirement already satisfied: python-dateutil>=2.5.0 in /usr/local/lib/python2.7/dist-packages (from pandas>=0.23.2->turicreate) (2.5.3)\n",
            "Requirement already satisfied: funcsigs in /usr/local/lib/python2.7/dist-packages (from numba<0.51.0->turicreate) (1.0.2)\n",
            "Requirement already satisfied: singledispatch in /usr/local/lib/python2.7/dist-packages (from numba<0.51.0->turicreate) (3.4.0.3)\n",
            "Requirement already satisfied: futures>=2.2.0 in /usr/local/lib/python2.7/dist-packages (from grpcio>=1.8.6->tensorflow<2.1.0,>=2.0.0->turicreate) (3.2.0)\n",
            "Requirement already satisfied: pbr>=0.11 in /usr/local/lib/python2.7/dist-packages (from mock>=2.0.0->tensorflow<2.1.0,>=2.0.0->turicreate) (5.4.0)\n",
            "Requirement already satisfied: setuptools>=41.0.0 in /usr/local/lib/python2.7/dist-packages (from tensorboard<2.1.0,>=2.0.0->tensorflow<2.1.0,>=2.0.0->turicreate) (44.1.1)\n",
            "Collecting google-auth-oauthlib<0.5,>=0.4.1\n",
            "  Downloading https://files.pythonhosted.org/packages/7b/b8/88def36e74bee9fce511c9519571f4e485e890093ab7442284f4ffaef60b/google_auth_oauthlib-0.4.1-py2.py3-none-any.whl\n",
            "Requirement already satisfied: werkzeug>=0.11.15 in /usr/local/lib/python2.7/dist-packages (from tensorboard<2.1.0,>=2.0.0->tensorflow<2.1.0,>=2.0.0->turicreate) (0.15.5)\n",
            "Requirement already satisfied: google-auth<2,>=1.6.3 in /usr/local/lib/python2.7/dist-packages (from tensorboard<2.1.0,>=2.0.0->tensorflow<2.1.0,>=2.0.0->turicreate) (1.17.2)\n",
            "Requirement already satisfied: markdown>=2.6.8 in /usr/local/lib/python2.7/dist-packages (from tensorboard<2.1.0,>=2.0.0->tensorflow<2.1.0,>=2.0.0->turicreate) (3.1.1)\n",
            "Requirement already satisfied: h5py in /usr/local/lib/python2.7/dist-packages (from keras-applications>=1.0.8->tensorflow<2.1.0,>=2.0.0->turicreate) (2.8.0)\n",
            "Requirement already satisfied: requests-oauthlib>=0.7.0 in /usr/local/lib/python2.7/dist-packages (from google-auth-oauthlib<0.5,>=0.4.1->tensorboard<2.1.0,>=2.0.0->tensorflow<2.1.0,>=2.0.0->turicreate) (1.2.0)\n",
            "Requirement already satisfied: cachetools<5.0,>=2.0.0 in /usr/local/lib/python2.7/dist-packages (from google-auth<2,>=1.6.3->tensorboard<2.1.0,>=2.0.0->tensorflow<2.1.0,>=2.0.0->turicreate) (3.1.1)\n",
            "Requirement already satisfied: rsa<4.1; python_version < \"3\" in /usr/local/lib/python2.7/dist-packages (from google-auth<2,>=1.6.3->tensorboard<2.1.0,>=2.0.0->tensorflow<2.1.0,>=2.0.0->turicreate) (4.0)\n",
            "Requirement already satisfied: pyasn1-modules>=0.2.1 in /usr/local/lib/python2.7/dist-packages (from google-auth<2,>=1.6.3->tensorboard<2.1.0,>=2.0.0->tensorflow<2.1.0,>=2.0.0->turicreate) (0.2.5)\n",
            "Requirement already satisfied: oauthlib>=3.0.0 in /usr/local/lib/python2.7/dist-packages (from requests-oauthlib>=0.7.0->google-auth-oauthlib<0.5,>=0.4.1->tensorboard<2.1.0,>=2.0.0->tensorflow<2.1.0,>=2.0.0->turicreate) (3.0.2)\n",
            "Requirement already satisfied: pyasn1>=0.1.3 in /usr/local/lib/python2.7/dist-packages (from rsa<4.1; python_version < \"3\"->google-auth<2,>=1.6.3->tensorboard<2.1.0,>=2.0.0->tensorflow<2.1.0,>=2.0.0->turicreate) (0.4.5)\n",
            "\u001b[31mERROR: fastai 0.7.0 has requirement torch<0.4, but you'll have torch 1.4.0 which is incompatible.\u001b[0m\n",
            "\u001b[31mERROR: tensorboard 2.0.2 has requirement grpcio>=1.24.3, but you'll have grpcio 1.15.0 which is incompatible.\u001b[0m\n",
            "Installing collected packages: pillow, google-auth-oauthlib, tensorboard, tensorflow-estimator, tensorflow, llvmlite, coremltools, turicreate\n",
            "  Found existing installation: Pillow 4.3.0\n",
            "    Uninstalling Pillow-4.3.0:\n",
            "      Successfully uninstalled Pillow-4.3.0\n",
            "  Found existing installation: google-auth-oauthlib 0.4.0\n",
            "    Uninstalling google-auth-oauthlib-0.4.0:\n",
            "      Successfully uninstalled google-auth-oauthlib-0.4.0\n",
            "  Found existing installation: tensorboard 2.1.0\n",
            "    Uninstalling tensorboard-2.1.0:\n",
            "      Successfully uninstalled tensorboard-2.1.0\n",
            "  Found existing installation: tensorflow-estimator 1.15.0\n",
            "    Uninstalling tensorflow-estimator-1.15.0:\n",
            "      Successfully uninstalled tensorflow-estimator-1.15.0\n",
            "  Found existing installation: tensorflow 2.1.0\n",
            "    Uninstalling tensorflow-2.1.0:\n",
            "      Successfully uninstalled tensorflow-2.1.0\n",
            "  Found existing installation: llvmlite 0.29.0\n",
            "    Uninstalling llvmlite-0.29.0:\n",
            "      Successfully uninstalled llvmlite-0.29.0\n",
            "Successfully installed coremltools-3.3 google-auth-oauthlib-0.4.1 llvmlite-0.31.0 pillow-6.2.2 tensorboard-2.0.2 tensorflow-2.0.0 tensorflow-estimator-2.0.1 turicreate-6.4\n"
          ],
          "name": "stdout"
        },
        {
          "output_type": "display_data",
          "data": {
            "application/vnd.colab-display-data+json": {
              "pip_warning": {
                "packages": [
                  "PIL"
                ]
              }
            }
          },
          "metadata": {
            "tags": []
          }
        }
      ]
    },
    {
      "cell_type": "code",
      "metadata": {
        "id": "1Wrtlhdm61IA",
        "colab_type": "code",
        "colab": {
          "base_uri": "https://localhost:8080/",
          "height": 1000
        },
        "outputId": "1d484f0f-2ad7-41f6-a1be-7110c4ed594f"
      },
      "source": [
        "!pip install --upgrade --no-cache-dir https://get.graphlab.com/GraphLab-Create/2.1/anurima10@gmail.com/0974-9B0C-5CA9-EB81-7FD5-303B-ACA1-7583/GraphLab-Create-License.tar.gz"
      ],
      "execution_count": 1,
      "outputs": [
        {
          "output_type": "stream",
          "text": [
            "Collecting https://get.graphlab.com/GraphLab-Create/2.1/anurima10@gmail.com/0974-9B0C-5CA9-EB81-7FD5-303B-ACA1-7583/GraphLab-Create-License.tar.gz\n",
            "  Downloading https://get.graphlab.com/GraphLab-Create/2.1/anurima10@gmail.com/0974-9B0C-5CA9-EB81-7FD5-303B-ACA1-7583/GraphLab-Create-License.tar.gz\n",
            "Collecting graphlab-create>=2.1\n",
            "\u001b[?25l  Downloading https://files.pythonhosted.org/packages/9a/6f/c6a3ae3c7fe8afa85ee60f6c2e2c0bd4f914fa1a1f60af478e826ec05fe8/GraphLab_Create-2.1-py2.7.tar.gz (52.1MB)\n",
            "\u001b[K     |████████████████████████████████| 52.2MB 1.2MB/s \n",
            "\u001b[?25hCollecting psclient\n",
            "\u001b[?25l  Downloading https://files.pythonhosted.org/packages/df/9c/8b424951a90f230f532dc32b330429b77ff3ef307d1f2ab2b4987f24a6db/psclient-2.0.tar.gz (88kB)\n",
            "\u001b[K     |████████████████████████████████| 92kB 51.7MB/s \n",
            "\u001b[?25hCollecting boto==2.33.0\n",
            "\u001b[?25l  Downloading https://files.pythonhosted.org/packages/17/2c/f2816e8c526bcb92c0b999bbcf1a2e6855ded628059b14bf1409f82000fd/boto-2.33.0-py2.py3-none-any.whl (1.3MB)\n",
            "\u001b[K     |████████████████████████████████| 1.3MB 52.4MB/s \n",
            "\u001b[?25hCollecting decorator==4.0.9\n",
            "  Downloading https://files.pythonhosted.org/packages/7d/ca/493b2377bf42d57bdd985c31975be3d2b500ad9079199cecb7633e8e2cde/decorator-4.0.9-py2.py3-none-any.whl\n",
            "Collecting tornado==4.3\n",
            "\u001b[?25l  Downloading https://files.pythonhosted.org/packages/21/29/e64c97013e97d42d93b3d5997234a6f17455f3744847a7c16289289f8fa6/tornado-4.3.tar.gz (450kB)\n",
            "\u001b[K     |████████████████████████████████| 460kB 49.4MB/s \n",
            "\u001b[?25hRequirement already satisfied, skipping upgrade: prettytable==0.7.2 in /usr/local/lib/python2.7/dist-packages (from graphlab-create>=2.1->GraphLab-Create-License==2.1) (0.7.2)\n",
            "Collecting requests==2.9.1\n",
            "\u001b[?25l  Downloading https://files.pythonhosted.org/packages/b8/f7/3bb4d18c234a8ce7044d5ee2e1082b7d72bf6c550afb8d51ae266dea56f1/requests-2.9.1-py2.py3-none-any.whl (501kB)\n",
            "\u001b[K     |████████████████████████████████| 501kB 48.9MB/s \n",
            "\u001b[?25hCollecting awscli==1.6.2\n",
            "\u001b[?25l  Downloading https://files.pythonhosted.org/packages/69/ff/82c4e32e87d798aebeeedef0dfec45c4cb87f81313b7d191d48ffbc80391/awscli-1.6.2.tar.gz (268kB)\n",
            "\u001b[K     |████████████████████████████████| 276kB 50.1MB/s \n",
            "\u001b[?25hCollecting sseclient==0.0.8\n",
            "  Downloading https://files.pythonhosted.org/packages/d8/a8/0006301eefa55b94a0c8bd960280b7e972d2cd27d921361387e1e6bfe76b/sseclient-0.0.8.tar.gz\n",
            "Collecting multipledispatch>=0.4.7\n",
            "  Downloading https://files.pythonhosted.org/packages/3d/a3/3638c2232eb513a9f876bb96e2e400f18d2f5bdc2e7abe84194c8bd38c2d/multipledispatch-0.6.0-py2-none-any.whl\n",
            "Collecting certifi==2015.04.28\n",
            "\u001b[?25l  Downloading https://files.pythonhosted.org/packages/86/35/9758a67004a266047c779ae40a3d937869bfc6fc3422f6c606b8afbc9d23/certifi-2015.04.28-py2.py3-none-any.whl (373kB)\n",
            "\u001b[K     |████████████████████████████████| 378kB 46.8MB/s \n",
            "\u001b[?25hCollecting jsonschema==2.5.1\n",
            "  Downloading https://files.pythonhosted.org/packages/bd/cc/5388547ea3504bd8cbf99ba2ae7a3231598f54038e9b228cbd174f8ec6a1/jsonschema-2.5.1-py2.py3-none-any.whl\n",
            "Collecting genson==0.1.0\n",
            "  Downloading https://files.pythonhosted.org/packages/9d/8d/123cd25290f008092870c71ffc8f159f04aa7b9dfd5e95053e885d3d355f/genson-0.1.0-py2.py3-none-any.whl\n",
            "Requirement already satisfied, skipping upgrade: python-dateutil in /usr/local/lib/python2.7/dist-packages (from psclient->graphlab-create>=2.1->GraphLab-Create-License==2.1) (2.5.3)\n",
            "Collecting backports.ssl_match_hostname\n",
            "  Downloading https://files.pythonhosted.org/packages/ff/2b/8265224812912bc5b7a607c44bf7b027554e1b9775e9ee0de8032e3de4b2/backports.ssl_match_hostname-3.7.0.1.tar.gz\n",
            "Requirement already satisfied, skipping upgrade: singledispatch in /usr/local/lib/python2.7/dist-packages (from tornado==4.3->graphlab-create>=2.1->GraphLab-Create-License==2.1) (3.4.0.3)\n",
            "Requirement already satisfied, skipping upgrade: backports_abc>=0.4 in /usr/local/lib/python2.7/dist-packages (from tornado==4.3->graphlab-create>=2.1->GraphLab-Create-License==2.1) (0.5)\n",
            "Collecting botocore<0.74.0,>=0.73.0\n",
            "\u001b[?25l  Downloading https://files.pythonhosted.org/packages/20/c9/aa57fdd7775d116083b9415d7f21980a24a9ed33b127a58b6bfc060ec970/botocore-0.73.0.tar.gz (1.2MB)\n",
            "\u001b[K     |████████████████████████████████| 1.2MB 49.5MB/s \n",
            "\u001b[?25hCollecting bcdoc<0.13.0,>=0.12.0\n",
            "  Downloading https://files.pythonhosted.org/packages/ab/3e/c29e0fc127565369d8635f4d4510eb3fbaf634c4b36e222976c981a3bbac/bcdoc-0.12.2.tar.gz\n",
            "Requirement already satisfied, skipping upgrade: six>=1.1.0 in /usr/local/lib/python2.7/dist-packages (from awscli==1.6.2->graphlab-create>=2.1->GraphLab-Create-License==2.1) (1.15.0)\n",
            "Collecting colorama==0.2.5\n",
            "  Downloading https://files.pythonhosted.org/packages/fc/87/17f7dfcc3632b01972aa64cf97db20498f96ae206c8caa066ca47f304d44/colorama-0.2.5.tar.gz\n",
            "Requirement already satisfied, skipping upgrade: docutils>=0.10 in /usr/local/lib/python2.7/dist-packages (from awscli==1.6.2->graphlab-create>=2.1->GraphLab-Create-License==2.1) (0.14)\n",
            "Collecting rsa==3.1.2\n",
            "  Downloading https://files.pythonhosted.org/packages/7c/f4/9e4173adb790e5e27cd4c86ce8be38570bbd735271acf35800c9d06ecd6f/rsa-3.1.2.tar.gz\n",
            "Requirement already satisfied, skipping upgrade: functools32; python_version == \"2.7\" in /usr/local/lib/python2.7/dist-packages (from jsonschema==2.5.1->graphlab-create>=2.1->GraphLab-Create-License==2.1) (3.2.3.post2)\n",
            "Collecting jmespath==0.5.0\n",
            "  Downloading https://files.pythonhosted.org/packages/ee/7c/f8e35867dd7309ecc10be8411c6a37ecb04a2db2007cc07223be2708e6db/jmespath-0.5.0.tar.gz\n",
            "Requirement already satisfied, skipping upgrade: pyasn1>=0.1.3 in /usr/local/lib/python2.7/dist-packages (from rsa==3.1.2->awscli==1.6.2->graphlab-create>=2.1->GraphLab-Create-License==2.1) (0.4.5)\n",
            "Building wheels for collected packages: GraphLab-Create-License, graphlab-create, psclient, tornado, awscli, sseclient, backports.ssl-match-hostname, botocore, bcdoc, colorama, rsa, jmespath\n",
            "  Building wheel for GraphLab-Create-License (setup.py) ... \u001b[?25l\u001b[?25hdone\n",
            "  Created wheel for GraphLab-Create-License: filename=GraphLab_Create_License-2.1-cp27-none-any.whl size=1218 sha256=ed1768475d3c6d72d88057dc16e1768c77115879d0a8d4e04d9c1597173389c7\n",
            "  Stored in directory: /tmp/pip-ephem-wheel-cache-IUHM11/wheels/50/5c/ad/275e3d0b6c72e9834c53163b2b7485bd75579849c6b27fa2eb\n",
            "  Building wheel for graphlab-create (setup.py) ... \u001b[?25l\u001b[?25hdone\n",
            "  Created wheel for graphlab-create: filename=GraphLab_Create-2.1-cp27-none-any.whl size=41797999 sha256=4d506f05f3e78689ee3d48c93f2e380e3addfe13a6c1ef2a3d7baefe56925fe9\n",
            "  Stored in directory: /tmp/pip-ephem-wheel-cache-IUHM11/wheels/56/cc/1e/ea907e0324901b4645590751bb3f22e7607f370a5001644e50\n",
            "  Building wheel for psclient (setup.py) ... \u001b[?25l\u001b[?25hdone\n",
            "  Created wheel for psclient: filename=psclient-2.0-cp27-none-any.whl size=99438 sha256=0bb71f585f4038ce92db7a760ae3d24a18b3f1f8178cbf13eed22cff9ab527b6\n",
            "  Stored in directory: /tmp/pip-ephem-wheel-cache-IUHM11/wheels/de/6b/31/f67bac2ba81009e2353fe97fbe2497aeda51c360f748c92e0c\n",
            "  Building wheel for tornado (setup.py) ... \u001b[?25l\u001b[?25hdone\n",
            "  Created wheel for tornado: filename=tornado-4.3-cp27-cp27mu-linux_x86_64.whl size=402582 sha256=203b0c4ce60850b42ce86b4641ce76f027bf3d9aca79526f0b9afd6f9e818758\n",
            "  Stored in directory: /tmp/pip-ephem-wheel-cache-IUHM11/wheels/00/be/0e/5bd46d9f24cf214e295555ff6832782701c836695145413e70\n",
            "  Building wheel for awscli (setup.py) ... \u001b[?25l\u001b[?25hdone\n",
            "  Created wheel for awscli: filename=awscli-1.6.2-cp27-none-any.whl size=492311 sha256=4dbb7c0597c6c3ccb64b895bf3f36af961c49f52bc81110c00fcd1616bb6ba21\n",
            "  Stored in directory: /tmp/pip-ephem-wheel-cache-IUHM11/wheels/59/65/38/e7e2189c94ccdabe226e5d7c83070581644dc9f4968b65841a\n",
            "  Building wheel for sseclient (setup.py) ... \u001b[?25l\u001b[?25hdone\n",
            "  Created wheel for sseclient: filename=sseclient-0.0.8-cp27-none-any.whl size=3760 sha256=391e4041d79991c1039e566860db003b10c63dd825f6db1b55163212d53f90af\n",
            "  Stored in directory: /tmp/pip-ephem-wheel-cache-IUHM11/wheels/66/27/0e/b276121689e35ff8ffaed97ca7697204f00abf457b0e60c46d\n",
            "  Building wheel for backports.ssl-match-hostname (setup.py) ... \u001b[?25l\u001b[?25hdone\n",
            "  Created wheel for backports.ssl-match-hostname: filename=backports.ssl_match_hostname-3.7.0.1-py2.py3-none-any.whl size=6738 sha256=2a3a323fb4182ce2f52ebd40ef3347f577e21c6511c054239d6f624391e3c7de\n",
            "  Stored in directory: /tmp/pip-ephem-wheel-cache-IUHM11/wheels/f1/ad/d7/c184cf1ef67b07f98565dc52f91ed4f9a759b7b46674b2fd76\n",
            "  Building wheel for botocore (setup.py) ... \u001b[?25l\u001b[?25hdone\n",
            "  Created wheel for botocore: filename=botocore-0.73.0-py2.py3-none-any.whl size=1267652 sha256=1b3bc4f7bd061ce28b848be57d9716864899b054593c66a742ebc0437e3fadaf\n",
            "  Stored in directory: /tmp/pip-ephem-wheel-cache-IUHM11/wheels/5d/8e/fb/378a59aff8a121f9d96cc8feb63e62d6744a78e0ec410ea416\n",
            "  Building wheel for bcdoc (setup.py) ... \u001b[?25l\u001b[?25hdone\n",
            "  Created wheel for bcdoc: filename=bcdoc-0.12.2-py2.py3-none-any.whl size=12630 sha256=907e772b144681a4bf30c1097978171878fb5bac11505ced5571fe66973e2242\n",
            "  Stored in directory: /tmp/pip-ephem-wheel-cache-IUHM11/wheels/5a/6b/35/39ad4b071850a7e59dd4dcd0055211bca3d66b2cc421d48302\n",
            "  Building wheel for colorama (setup.py) ... \u001b[?25l\u001b[?25hdone\n",
            "  Created wheel for colorama: filename=colorama-0.2.5-cp27-none-any.whl size=12377 sha256=9df608b8789c948511c84d020f785959d884192bf6365ea97a72d979e6cb1694\n",
            "  Stored in directory: /tmp/pip-ephem-wheel-cache-IUHM11/wheels/e7/44/b8/9203d8a54c58e2799cce894865ae470db459e79bece0445094\n",
            "  Building wheel for rsa (setup.py) ... \u001b[?25l\u001b[?25hdone\n",
            "  Created wheel for rsa: filename=rsa-3.1.2-cp27-none-any.whl size=43311 sha256=5c7e6d83b118abf21460e4fe388cc5cc4ddb7e24516aef6ea63a4a3cf55e2322\n",
            "  Stored in directory: /tmp/pip-ephem-wheel-cache-IUHM11/wheels/84/8c/75/03c06d301398fdee4a65fc19643c099b489940d81a56078ac0\n",
            "  Building wheel for jmespath (setup.py) ... \u001b[?25l\u001b[?25hdone\n",
            "  Created wheel for jmespath: filename=jmespath-0.5.0-cp27-none-any.whl size=16757 sha256=b6c0aa2292b92f75afd853b0e4723b8eff0f7de8cdb4ae36fb71a7923cd93c1b\n",
            "  Stored in directory: /tmp/pip-ephem-wheel-cache-IUHM11/wheels/a2/b7/db/1978836aa96f934d495ef2f0033352efc6c6ca2a8581ba849a\n",
            "Successfully built GraphLab-Create-License graphlab-create psclient tornado awscli sseclient backports.ssl-match-hostname botocore bcdoc colorama rsa jmespath\n",
            "\u001b[31mERROR: tfds-nightly 1.0.2.dev201907170105 has requirement requests>=2.19.0, but you'll have requests 2.9.1 which is incompatible.\u001b[0m\n",
            "\u001b[31mERROR: networkx 2.2 has requirement decorator>=4.3.0, but you'll have decorator 4.0.9 which is incompatible.\u001b[0m\n",
            "\u001b[31mERROR: google-colab 1.0.0 has requirement requests~=2.23.0, but you'll have requests 2.9.1 which is incompatible.\u001b[0m\n",
            "\u001b[31mERROR: google-colab 1.0.0 has requirement tornado~=4.5.0; python_version < \"3.0\", but you'll have tornado 4.3 which is incompatible.\u001b[0m\n",
            "\u001b[31mERROR: distributed 1.25.3 has requirement tornado>=4.5.1, but you'll have tornado 4.3 which is incompatible.\u001b[0m\n",
            "\u001b[31mERROR: google-api-core 1.13.0 has requirement requests<3.0.0dev,>=2.18.0, but you'll have requests 2.9.1 which is incompatible.\u001b[0m\n",
            "\u001b[31mERROR: s3transfer 0.2.1 has requirement botocore<2.0.0,>=1.12.36, but you'll have botocore 0.73.0 which is incompatible.\u001b[0m\n",
            "\u001b[31mERROR: boto3 1.9.189 has requirement botocore<1.13.0,>=1.12.189, but you'll have botocore 0.73.0 which is incompatible.\u001b[0m\n",
            "\u001b[31mERROR: boto3 1.9.189 has requirement jmespath<1.0.0,>=0.7.1, but you'll have jmespath 0.5.0 which is incompatible.\u001b[0m\n",
            "\u001b[31mERROR: fastai 0.7.0 has requirement torch<0.4, but you'll have torch 1.4.0 which is incompatible.\u001b[0m\n",
            "\u001b[31mERROR: tensorboard 2.0.2 has requirement grpcio>=1.24.3, but you'll have grpcio 1.15.0 which is incompatible.\u001b[0m\n",
            "\u001b[31mERROR: tensorboard 2.0.2 has requirement requests<3,>=2.21.0, but you'll have requests 2.9.1 which is incompatible.\u001b[0m\n",
            "\u001b[31mERROR: spacy 2.1.6 has requirement requests<3.0.0,>=2.13.0, but you'll have requests 2.9.1 which is incompatible.\u001b[0m\n",
            "\u001b[31mERROR: oauth2client 4.1.3 has requirement rsa>=3.1.4, but you'll have rsa 3.1.2 which is incompatible.\u001b[0m\n",
            "\u001b[31mERROR: tweepy 3.6.0 has requirement requests>=2.11.1, but you'll have requests 2.9.1 which is incompatible.\u001b[0m\n",
            "\u001b[31mERROR: s3fs 0.2.2 has requirement botocore>=1.12.91, but you'll have botocore 0.73.0 which is incompatible.\u001b[0m\n",
            "Installing collected packages: boto, decorator, genson, jsonschema, requests, psclient, backports.ssl-match-hostname, certifi, tornado, jmespath, botocore, bcdoc, colorama, rsa, awscli, sseclient, multipledispatch, graphlab-create, GraphLab-Create-License\n",
            "  Found existing installation: boto 2.49.0\n",
            "    Uninstalling boto-2.49.0:\n",
            "      Successfully uninstalled boto-2.49.0\n",
            "  Found existing installation: decorator 4.4.0\n",
            "    Uninstalling decorator-4.4.0:\n",
            "      Successfully uninstalled decorator-4.4.0\n",
            "  Found existing installation: jsonschema 2.6.0\n",
            "    Uninstalling jsonschema-2.6.0:\n",
            "      Successfully uninstalled jsonschema-2.6.0\n",
            "  Found existing installation: requests 2.23.0\n",
            "    Uninstalling requests-2.23.0:\n",
            "      Successfully uninstalled requests-2.23.0\n",
            "  Found existing installation: certifi 2019.6.16\n",
            "    Uninstalling certifi-2019.6.16:\n",
            "      Successfully uninstalled certifi-2019.6.16\n",
            "  Found existing installation: tornado 4.5.3\n",
            "    Uninstalling tornado-4.5.3:\n",
            "      Successfully uninstalled tornado-4.5.3\n",
            "  Found existing installation: jmespath 0.9.4\n",
            "    Uninstalling jmespath-0.9.4:\n",
            "      Successfully uninstalled jmespath-0.9.4\n",
            "  Found existing installation: botocore 1.12.189\n",
            "    Uninstalling botocore-1.12.189:\n",
            "      Successfully uninstalled botocore-1.12.189\n",
            "  Found existing installation: rsa 4.0\n",
            "    Uninstalling rsa-4.0:\n",
            "      Successfully uninstalled rsa-4.0\n",
            "Successfully installed GraphLab-Create-License-2.1 awscli-1.6.2 backports.ssl-match-hostname-3.7.0.1 bcdoc-0.12.2 boto-2.33.0 botocore-0.73.0 certifi-2015.4.28 colorama-0.2.5 decorator-4.0.9 genson-0.1.0 graphlab-create-2.1 jmespath-0.5.0 jsonschema-2.5.1 multipledispatch-0.6.0 psclient-2.0 requests-2.9.1 rsa-3.1.2 sseclient-0.0.8 tornado-4.3\n"
          ],
          "name": "stdout"
        },
        {
          "output_type": "display_data",
          "data": {
            "application/vnd.colab-display-data+json": {
              "pip_warning": {
                "packages": [
                  "backports",
                  "decorator",
                  "tornado"
                ]
              }
            }
          },
          "metadata": {
            "tags": []
          }
        }
      ]
    },
    {
      "cell_type": "code",
      "metadata": {
        "id": "8Rioe_jt9kpm",
        "colab_type": "code",
        "colab": {
          "base_uri": "https://localhost:8080/",
          "height": 675
        },
        "outputId": "31201f35-0536-4928-be60-a3ea5375eabf"
      },
      "source": [
        "!pip install --upgrade --no-cache-dir https://get.graphlab.com/GraphLab-Create/2.1/anurima10@gmail.com/0974-9B0C-5CA9-EB81-7FD5-303B-ACA1-7583/GraphLab-Create-License.tar.gz"
      ],
      "execution_count": 3,
      "outputs": [
        {
          "output_type": "stream",
          "text": [
            "Collecting https://get.graphlab.com/GraphLab-Create/2.1/anurima10@gmail.com/0974-9B0C-5CA9-EB81-7FD5-303B-ACA1-7583/GraphLab-Create-License.tar.gz\n",
            "  Downloading https://get.graphlab.com/GraphLab-Create/2.1/anurima10@gmail.com/0974-9B0C-5CA9-EB81-7FD5-303B-ACA1-7583/GraphLab-Create-License.tar.gz\n",
            "Requirement already satisfied, skipping upgrade: graphlab-create>=2.1 in /usr/local/lib/python2.7/dist-packages (from GraphLab-Create-License==2.1) (2.1)\n",
            "Requirement already satisfied, skipping upgrade: tornado==4.3 in /usr/local/lib/python2.7/dist-packages (from graphlab-create>=2.1->GraphLab-Create-License==2.1) (4.3)\n",
            "Requirement already satisfied, skipping upgrade: prettytable==0.7.2 in /usr/local/lib/python2.7/dist-packages (from graphlab-create>=2.1->GraphLab-Create-License==2.1) (0.7.2)\n",
            "Requirement already satisfied, skipping upgrade: multipledispatch>=0.4.7 in /usr/local/lib/python2.7/dist-packages (from graphlab-create>=2.1->GraphLab-Create-License==2.1) (0.6.0)\n",
            "Requirement already satisfied, skipping upgrade: decorator==4.0.9 in /usr/local/lib/python2.7/dist-packages (from graphlab-create>=2.1->GraphLab-Create-License==2.1) (4.0.9)\n",
            "Requirement already satisfied, skipping upgrade: awscli==1.6.2 in /usr/local/lib/python2.7/dist-packages (from graphlab-create>=2.1->GraphLab-Create-License==2.1) (1.6.2)\n",
            "Requirement already satisfied, skipping upgrade: psclient in /usr/local/lib/python2.7/dist-packages (from graphlab-create>=2.1->GraphLab-Create-License==2.1) (2.0)\n",
            "Requirement already satisfied, skipping upgrade: sseclient==0.0.8 in /usr/local/lib/python2.7/dist-packages (from graphlab-create>=2.1->GraphLab-Create-License==2.1) (0.0.8)\n",
            "Requirement already satisfied, skipping upgrade: requests==2.9.1 in /usr/local/lib/python2.7/dist-packages (from graphlab-create>=2.1->GraphLab-Create-License==2.1) (2.9.1)\n",
            "Requirement already satisfied, skipping upgrade: genson==0.1.0 in /usr/local/lib/python2.7/dist-packages (from graphlab-create>=2.1->GraphLab-Create-License==2.1) (0.1.0)\n",
            "Requirement already satisfied, skipping upgrade: boto==2.33.0 in /usr/local/lib/python2.7/dist-packages (from graphlab-create>=2.1->GraphLab-Create-License==2.1) (2.33.0)\n",
            "Requirement already satisfied, skipping upgrade: jsonschema==2.5.1 in /usr/local/lib/python2.7/dist-packages (from graphlab-create>=2.1->GraphLab-Create-License==2.1) (2.5.1)\n",
            "Requirement already satisfied, skipping upgrade: certifi==2015.04.28 in /usr/local/lib/python2.7/dist-packages (from graphlab-create>=2.1->GraphLab-Create-License==2.1) (2015.4.28)\n",
            "Requirement already satisfied, skipping upgrade: singledispatch in /usr/local/lib/python2.7/dist-packages (from tornado==4.3->graphlab-create>=2.1->GraphLab-Create-License==2.1) (3.4.0.3)\n",
            "Requirement already satisfied, skipping upgrade: backports.ssl-match-hostname in /usr/local/lib/python2.7/dist-packages (from tornado==4.3->graphlab-create>=2.1->GraphLab-Create-License==2.1) (3.7.0.1)\n",
            "Requirement already satisfied, skipping upgrade: backports-abc>=0.4 in /usr/local/lib/python2.7/dist-packages (from tornado==4.3->graphlab-create>=2.1->GraphLab-Create-License==2.1) (0.5)\n",
            "Requirement already satisfied, skipping upgrade: six in /usr/local/lib/python2.7/dist-packages (from multipledispatch>=0.4.7->graphlab-create>=2.1->GraphLab-Create-License==2.1) (1.15.0)\n",
            "Requirement already satisfied, skipping upgrade: rsa==3.1.2 in /usr/local/lib/python2.7/dist-packages (from awscli==1.6.2->graphlab-create>=2.1->GraphLab-Create-License==2.1) (3.1.2)\n",
            "Requirement already satisfied, skipping upgrade: docutils>=0.10 in /usr/local/lib/python2.7/dist-packages (from awscli==1.6.2->graphlab-create>=2.1->GraphLab-Create-License==2.1) (0.14)\n",
            "Requirement already satisfied, skipping upgrade: botocore<0.74.0,>=0.73.0 in /usr/local/lib/python2.7/dist-packages (from awscli==1.6.2->graphlab-create>=2.1->GraphLab-Create-License==2.1) (0.73.0)\n",
            "Requirement already satisfied, skipping upgrade: bcdoc<0.13.0,>=0.12.0 in /usr/local/lib/python2.7/dist-packages (from awscli==1.6.2->graphlab-create>=2.1->GraphLab-Create-License==2.1) (0.12.2)\n",
            "Requirement already satisfied, skipping upgrade: colorama==0.2.5 in /usr/local/lib/python2.7/dist-packages (from awscli==1.6.2->graphlab-create>=2.1->GraphLab-Create-License==2.1) (0.2.5)\n",
            "Requirement already satisfied, skipping upgrade: python-dateutil in /usr/local/lib/python2.7/dist-packages (from psclient->graphlab-create>=2.1->GraphLab-Create-License==2.1) (2.5.3)\n",
            "Requirement already satisfied, skipping upgrade: functools32; python_version == \"2.7\" in /usr/local/lib/python2.7/dist-packages (from jsonschema==2.5.1->graphlab-create>=2.1->GraphLab-Create-License==2.1) (3.2.3.post2)\n",
            "Requirement already satisfied, skipping upgrade: pyasn1>=0.1.3 in /usr/local/lib/python2.7/dist-packages (from rsa==3.1.2->awscli==1.6.2->graphlab-create>=2.1->GraphLab-Create-License==2.1) (0.4.5)\n",
            "Requirement already satisfied, skipping upgrade: jmespath==0.5.0 in /usr/local/lib/python2.7/dist-packages (from botocore<0.74.0,>=0.73.0->awscli==1.6.2->graphlab-create>=2.1->GraphLab-Create-License==2.1) (0.5.0)\n",
            "Building wheels for collected packages: GraphLab-Create-License\n",
            "  Building wheel for GraphLab-Create-License (setup.py) ... \u001b[?25l\u001b[?25hdone\n",
            "  Created wheel for GraphLab-Create-License: filename=GraphLab_Create_License-2.1-cp27-none-any.whl size=1218 sha256=e77f82a3aa55a6b4db4990a1ab33d59ac3f258d04732dd1aaa7e27c49d1cfdae\n",
            "  Stored in directory: /tmp/pip-ephem-wheel-cache-5fVH8X/wheels/50/5c/ad/275e3d0b6c72e9834c53163b2b7485bd75579849c6b27fa2eb\n",
            "Successfully built GraphLab-Create-License\n",
            "Installing collected packages: GraphLab-Create-License\n",
            "  Found existing installation: GraphLab-Create-License 2.1\n",
            "    Uninstalling GraphLab-Create-License-2.1:\n",
            "      Successfully uninstalled GraphLab-Create-License-2.1\n",
            "Successfully installed GraphLab-Create-License-2.1\n"
          ],
          "name": "stdout"
        }
      ]
    },
    {
      "cell_type": "code",
      "metadata": {
        "id": "lU3vGJll-s1X",
        "colab_type": "code",
        "colab": {
          "base_uri": "https://localhost:8080/",
          "height": 1000
        },
        "outputId": "157fac7b-44f6-48af-eee4-6a95ffa7b1de"
      },
      "source": [
        "!pip install --upgrade --no-cache-dir graphlab-create"
      ],
      "execution_count": 1,
      "outputs": [
        {
          "output_type": "stream",
          "text": [
            "Collecting graphlab-create\n",
            "\u001b[?25l  Downloading https://files.pythonhosted.org/packages/9a/6f/c6a3ae3c7fe8afa85ee60f6c2e2c0bd4f914fa1a1f60af478e826ec05fe8/GraphLab_Create-2.1-py2.7.tar.gz (52.1MB)\n",
            "\u001b[K     |████████████████████████████████| 52.2MB 1.4MB/s \n",
            "\u001b[?25hCollecting psclient\n",
            "\u001b[?25l  Downloading https://files.pythonhosted.org/packages/df/9c/8b424951a90f230f532dc32b330429b77ff3ef307d1f2ab2b4987f24a6db/psclient-2.0.tar.gz (88kB)\n",
            "\u001b[K     |████████████████████████████████| 92kB 30.6MB/s \n",
            "\u001b[?25hCollecting boto==2.33.0\n",
            "\u001b[?25l  Downloading https://files.pythonhosted.org/packages/17/2c/f2816e8c526bcb92c0b999bbcf1a2e6855ded628059b14bf1409f82000fd/boto-2.33.0-py2.py3-none-any.whl (1.3MB)\n",
            "\u001b[K     |████████████████████████████████| 1.3MB 32.1MB/s \n",
            "\u001b[?25hCollecting decorator==4.0.9\n",
            "  Downloading https://files.pythonhosted.org/packages/7d/ca/493b2377bf42d57bdd985c31975be3d2b500ad9079199cecb7633e8e2cde/decorator-4.0.9-py2.py3-none-any.whl\n",
            "Collecting tornado==4.3\n",
            "\u001b[?25l  Downloading https://files.pythonhosted.org/packages/21/29/e64c97013e97d42d93b3d5997234a6f17455f3744847a7c16289289f8fa6/tornado-4.3.tar.gz (450kB)\n",
            "\u001b[K     |████████████████████████████████| 460kB 34.3MB/s \n",
            "\u001b[?25hRequirement already satisfied, skipping upgrade: prettytable==0.7.2 in /usr/local/lib/python2.7/dist-packages (from graphlab-create) (0.7.2)\n",
            "Collecting requests==2.9.1\n",
            "\u001b[?25l  Downloading https://files.pythonhosted.org/packages/b8/f7/3bb4d18c234a8ce7044d5ee2e1082b7d72bf6c550afb8d51ae266dea56f1/requests-2.9.1-py2.py3-none-any.whl (501kB)\n",
            "\u001b[K     |████████████████████████████████| 501kB 38.1MB/s \n",
            "\u001b[?25hCollecting awscli==1.6.2\n",
            "\u001b[?25l  Downloading https://files.pythonhosted.org/packages/69/ff/82c4e32e87d798aebeeedef0dfec45c4cb87f81313b7d191d48ffbc80391/awscli-1.6.2.tar.gz (268kB)\n",
            "\u001b[K     |████████████████████████████████| 276kB 30.0MB/s \n",
            "\u001b[?25hCollecting sseclient==0.0.8\n",
            "  Downloading https://files.pythonhosted.org/packages/d8/a8/0006301eefa55b94a0c8bd960280b7e972d2cd27d921361387e1e6bfe76b/sseclient-0.0.8.tar.gz\n",
            "Collecting multipledispatch>=0.4.7\n",
            "  Downloading https://files.pythonhosted.org/packages/3d/a3/3638c2232eb513a9f876bb96e2e400f18d2f5bdc2e7abe84194c8bd38c2d/multipledispatch-0.6.0-py2-none-any.whl\n",
            "Collecting certifi==2015.04.28\n",
            "\u001b[?25l  Downloading https://files.pythonhosted.org/packages/86/35/9758a67004a266047c779ae40a3d937869bfc6fc3422f6c606b8afbc9d23/certifi-2015.04.28-py2.py3-none-any.whl (373kB)\n",
            "\u001b[K     |████████████████████████████████| 378kB 26.5MB/s \n",
            "\u001b[?25hCollecting jsonschema==2.5.1\n",
            "  Downloading https://files.pythonhosted.org/packages/bd/cc/5388547ea3504bd8cbf99ba2ae7a3231598f54038e9b228cbd174f8ec6a1/jsonschema-2.5.1-py2.py3-none-any.whl\n",
            "Collecting genson==0.1.0\n",
            "  Downloading https://files.pythonhosted.org/packages/9d/8d/123cd25290f008092870c71ffc8f159f04aa7b9dfd5e95053e885d3d355f/genson-0.1.0-py2.py3-none-any.whl\n",
            "Requirement already satisfied, skipping upgrade: python-dateutil in /usr/local/lib/python2.7/dist-packages (from psclient->graphlab-create) (2.5.3)\n",
            "Collecting backports.ssl_match_hostname\n",
            "  Downloading https://files.pythonhosted.org/packages/ff/2b/8265224812912bc5b7a607c44bf7b027554e1b9775e9ee0de8032e3de4b2/backports.ssl_match_hostname-3.7.0.1.tar.gz\n",
            "Requirement already satisfied, skipping upgrade: singledispatch in /usr/local/lib/python2.7/dist-packages (from tornado==4.3->graphlab-create) (3.4.0.3)\n",
            "Requirement already satisfied, skipping upgrade: backports_abc>=0.4 in /usr/local/lib/python2.7/dist-packages (from tornado==4.3->graphlab-create) (0.5)\n",
            "Collecting botocore<0.74.0,>=0.73.0\n",
            "\u001b[?25l  Downloading https://files.pythonhosted.org/packages/20/c9/aa57fdd7775d116083b9415d7f21980a24a9ed33b127a58b6bfc060ec970/botocore-0.73.0.tar.gz (1.2MB)\n",
            "\u001b[K     |████████████████████████████████| 1.2MB 26.5MB/s \n",
            "\u001b[?25hCollecting bcdoc<0.13.0,>=0.12.0\n",
            "  Downloading https://files.pythonhosted.org/packages/ab/3e/c29e0fc127565369d8635f4d4510eb3fbaf634c4b36e222976c981a3bbac/bcdoc-0.12.2.tar.gz\n",
            "Requirement already satisfied, skipping upgrade: six>=1.1.0 in /usr/local/lib/python2.7/dist-packages (from awscli==1.6.2->graphlab-create) (1.15.0)\n",
            "Collecting colorama==0.2.5\n",
            "  Downloading https://files.pythonhosted.org/packages/fc/87/17f7dfcc3632b01972aa64cf97db20498f96ae206c8caa066ca47f304d44/colorama-0.2.5.tar.gz\n",
            "Requirement already satisfied, skipping upgrade: docutils>=0.10 in /usr/local/lib/python2.7/dist-packages (from awscli==1.6.2->graphlab-create) (0.14)\n",
            "Collecting rsa==3.1.2\n",
            "  Downloading https://files.pythonhosted.org/packages/7c/f4/9e4173adb790e5e27cd4c86ce8be38570bbd735271acf35800c9d06ecd6f/rsa-3.1.2.tar.gz\n",
            "Requirement already satisfied, skipping upgrade: functools32; python_version == \"2.7\" in /usr/local/lib/python2.7/dist-packages (from jsonschema==2.5.1->graphlab-create) (3.2.3.post2)\n",
            "Collecting jmespath==0.5.0\n",
            "  Downloading https://files.pythonhosted.org/packages/ee/7c/f8e35867dd7309ecc10be8411c6a37ecb04a2db2007cc07223be2708e6db/jmespath-0.5.0.tar.gz\n",
            "Requirement already satisfied, skipping upgrade: pyasn1>=0.1.3 in /usr/local/lib/python2.7/dist-packages (from rsa==3.1.2->awscli==1.6.2->graphlab-create) (0.4.5)\n",
            "Building wheels for collected packages: graphlab-create, psclient, tornado, awscli, sseclient, backports.ssl-match-hostname, botocore, bcdoc, colorama, rsa, jmespath\n",
            "  Building wheel for graphlab-create (setup.py) ... \u001b[?25l\u001b[?25hdone\n",
            "  Created wheel for graphlab-create: filename=GraphLab_Create-2.1-cp27-none-any.whl size=41797999 sha256=bb05a337bc25276a9d601b5bfa888f9233aac5b756f9072dc7d7329584b94b4c\n",
            "  Stored in directory: /tmp/pip-ephem-wheel-cache-VIr1z5/wheels/56/cc/1e/ea907e0324901b4645590751bb3f22e7607f370a5001644e50\n",
            "  Building wheel for psclient (setup.py) ... \u001b[?25l\u001b[?25hdone\n",
            "  Created wheel for psclient: filename=psclient-2.0-cp27-none-any.whl size=99438 sha256=a68ddeed2063a8526ebef96a30371448462dd9c4f6b046b088b1b2418ee9eb16\n",
            "  Stored in directory: /tmp/pip-ephem-wheel-cache-VIr1z5/wheels/de/6b/31/f67bac2ba81009e2353fe97fbe2497aeda51c360f748c92e0c\n",
            "  Building wheel for tornado (setup.py) ... \u001b[?25l\u001b[?25hdone\n",
            "  Created wheel for tornado: filename=tornado-4.3-cp27-cp27mu-linux_x86_64.whl size=402587 sha256=13830f1503ebf4f294a97bac7188febc4e32a9a055e4bd8782573c992cd99a1a\n",
            "  Stored in directory: /tmp/pip-ephem-wheel-cache-VIr1z5/wheels/00/be/0e/5bd46d9f24cf214e295555ff6832782701c836695145413e70\n",
            "  Building wheel for awscli (setup.py) ... \u001b[?25l\u001b[?25hdone\n",
            "  Created wheel for awscli: filename=awscli-1.6.2-cp27-none-any.whl size=492311 sha256=f0109ec42fd1bd7d508bc4092f079fc91e0eef1c0b757cdc4f9c747cc48ebb4a\n",
            "  Stored in directory: /tmp/pip-ephem-wheel-cache-VIr1z5/wheels/59/65/38/e7e2189c94ccdabe226e5d7c83070581644dc9f4968b65841a\n",
            "  Building wheel for sseclient (setup.py) ... \u001b[?25l\u001b[?25hdone\n",
            "  Created wheel for sseclient: filename=sseclient-0.0.8-cp27-none-any.whl size=3760 sha256=b355efd5831b2e84fe212ec075b48c9816210708682bf33d4889cb4a982b2392\n",
            "  Stored in directory: /tmp/pip-ephem-wheel-cache-VIr1z5/wheels/66/27/0e/b276121689e35ff8ffaed97ca7697204f00abf457b0e60c46d\n",
            "  Building wheel for backports.ssl-match-hostname (setup.py) ... \u001b[?25l\u001b[?25hdone\n",
            "  Created wheel for backports.ssl-match-hostname: filename=backports.ssl_match_hostname-3.7.0.1-py2.py3-none-any.whl size=6738 sha256=e3ee789d68677a684f5016e0597cd43cf09d4d45e8fae0a20b9a9580fd1795b3\n",
            "  Stored in directory: /tmp/pip-ephem-wheel-cache-VIr1z5/wheels/f1/ad/d7/c184cf1ef67b07f98565dc52f91ed4f9a759b7b46674b2fd76\n",
            "  Building wheel for botocore (setup.py) ... \u001b[?25l\u001b[?25hdone\n",
            "  Created wheel for botocore: filename=botocore-0.73.0-py2.py3-none-any.whl size=1267652 sha256=ea03c29480c9198c741ec6edc81208a5f279ec1b57399161be094c73f95b2e9e\n",
            "  Stored in directory: /tmp/pip-ephem-wheel-cache-VIr1z5/wheels/5d/8e/fb/378a59aff8a121f9d96cc8feb63e62d6744a78e0ec410ea416\n",
            "  Building wheel for bcdoc (setup.py) ... \u001b[?25l\u001b[?25hdone\n",
            "  Created wheel for bcdoc: filename=bcdoc-0.12.2-py2.py3-none-any.whl size=12630 sha256=0393383c34e38348bae19f125c5f4ef6f2ba7402b5faf83d1b0d0d7e21285e68\n",
            "  Stored in directory: /tmp/pip-ephem-wheel-cache-VIr1z5/wheels/5a/6b/35/39ad4b071850a7e59dd4dcd0055211bca3d66b2cc421d48302\n",
            "  Building wheel for colorama (setup.py) ... \u001b[?25l\u001b[?25hdone\n",
            "  Created wheel for colorama: filename=colorama-0.2.5-cp27-none-any.whl size=12377 sha256=5763422093b5b3d730a1ba761ff39d5ca12cbc8d0b1b167b641774c64fa0d37c\n",
            "  Stored in directory: /tmp/pip-ephem-wheel-cache-VIr1z5/wheels/e7/44/b8/9203d8a54c58e2799cce894865ae470db459e79bece0445094\n",
            "  Building wheel for rsa (setup.py) ... \u001b[?25l\u001b[?25hdone\n",
            "  Created wheel for rsa: filename=rsa-3.1.2-cp27-none-any.whl size=43311 sha256=10228da81033c211ff5210351a95f166fd5ed3d463b1ad4cd3fb67680abdbed4\n",
            "  Stored in directory: /tmp/pip-ephem-wheel-cache-VIr1z5/wheels/84/8c/75/03c06d301398fdee4a65fc19643c099b489940d81a56078ac0\n",
            "  Building wheel for jmespath (setup.py) ... \u001b[?25l\u001b[?25hdone\n",
            "  Created wheel for jmespath: filename=jmespath-0.5.0-cp27-none-any.whl size=16757 sha256=2059f0ee09bfe46eb58344849e005e4c76b3e4bf40112a7ccae0ad86ba412ff6\n",
            "  Stored in directory: /tmp/pip-ephem-wheel-cache-VIr1z5/wheels/a2/b7/db/1978836aa96f934d495ef2f0033352efc6c6ca2a8581ba849a\n",
            "Successfully built graphlab-create psclient tornado awscli sseclient backports.ssl-match-hostname botocore bcdoc colorama rsa jmespath\n",
            "\u001b[31mERROR: tfds-nightly 1.0.2.dev201907170105 has requirement requests>=2.19.0, but you'll have requests 2.9.1 which is incompatible.\u001b[0m\n",
            "\u001b[31mERROR: networkx 2.2 has requirement decorator>=4.3.0, but you'll have decorator 4.0.9 which is incompatible.\u001b[0m\n",
            "\u001b[31mERROR: google-colab 1.0.0 has requirement requests~=2.23.0, but you'll have requests 2.9.1 which is incompatible.\u001b[0m\n",
            "\u001b[31mERROR: google-colab 1.0.0 has requirement tornado~=4.5.0; python_version < \"3.0\", but you'll have tornado 4.3 which is incompatible.\u001b[0m\n",
            "\u001b[31mERROR: distributed 1.25.3 has requirement tornado>=4.5.1, but you'll have tornado 4.3 which is incompatible.\u001b[0m\n",
            "\u001b[31mERROR: google-api-core 1.13.0 has requirement requests<3.0.0dev,>=2.18.0, but you'll have requests 2.9.1 which is incompatible.\u001b[0m\n",
            "\u001b[31mERROR: s3transfer 0.2.1 has requirement botocore<2.0.0,>=1.12.36, but you'll have botocore 0.73.0 which is incompatible.\u001b[0m\n",
            "\u001b[31mERROR: boto3 1.9.189 has requirement botocore<1.13.0,>=1.12.189, but you'll have botocore 0.73.0 which is incompatible.\u001b[0m\n",
            "\u001b[31mERROR: boto3 1.9.189 has requirement jmespath<1.0.0,>=0.7.1, but you'll have jmespath 0.5.0 which is incompatible.\u001b[0m\n",
            "\u001b[31mERROR: fastai 0.7.0 has requirement torch<0.4, but you'll have torch 1.4.0 which is incompatible.\u001b[0m\n",
            "\u001b[31mERROR: tensorboard 2.1.0 has requirement google-auth-oauthlib<0.5,>=0.4.1, but you'll have google-auth-oauthlib 0.4.0 which is incompatible.\u001b[0m\n",
            "\u001b[31mERROR: tensorboard 2.1.0 has requirement grpcio>=1.24.3, but you'll have grpcio 1.15.0 which is incompatible.\u001b[0m\n",
            "\u001b[31mERROR: tensorboard 2.1.0 has requirement requests<3,>=2.21.0, but you'll have requests 2.9.1 which is incompatible.\u001b[0m\n",
            "\u001b[31mERROR: tensorflow 2.1.0 has requirement tensorflow-estimator<2.2.0,>=2.1.0rc0, but you'll have tensorflow-estimator 1.15.0 which is incompatible.\u001b[0m\n",
            "\u001b[31mERROR: spacy 2.1.6 has requirement requests<3.0.0,>=2.13.0, but you'll have requests 2.9.1 which is incompatible.\u001b[0m\n",
            "\u001b[31mERROR: oauth2client 4.1.3 has requirement rsa>=3.1.4, but you'll have rsa 3.1.2 which is incompatible.\u001b[0m\n",
            "\u001b[31mERROR: tweepy 3.6.0 has requirement requests>=2.11.1, but you'll have requests 2.9.1 which is incompatible.\u001b[0m\n",
            "\u001b[31mERROR: s3fs 0.2.2 has requirement botocore>=1.12.91, but you'll have botocore 0.73.0 which is incompatible.\u001b[0m\n",
            "Installing collected packages: boto, decorator, genson, jsonschema, requests, psclient, backports.ssl-match-hostname, certifi, tornado, jmespath, botocore, bcdoc, colorama, rsa, awscli, sseclient, multipledispatch, graphlab-create\n",
            "  Found existing installation: boto 2.49.0\n",
            "    Uninstalling boto-2.49.0:\n",
            "      Successfully uninstalled boto-2.49.0\n",
            "  Found existing installation: decorator 4.4.0\n",
            "    Uninstalling decorator-4.4.0:\n",
            "      Successfully uninstalled decorator-4.4.0\n",
            "  Found existing installation: jsonschema 2.6.0\n",
            "    Uninstalling jsonschema-2.6.0:\n",
            "      Successfully uninstalled jsonschema-2.6.0\n",
            "  Found existing installation: requests 2.23.0\n",
            "    Uninstalling requests-2.23.0:\n",
            "      Successfully uninstalled requests-2.23.0\n",
            "  Found existing installation: certifi 2019.6.16\n",
            "    Uninstalling certifi-2019.6.16:\n",
            "      Successfully uninstalled certifi-2019.6.16\n",
            "  Found existing installation: tornado 4.5.3\n",
            "    Uninstalling tornado-4.5.3:\n",
            "      Successfully uninstalled tornado-4.5.3\n",
            "  Found existing installation: jmespath 0.9.4\n",
            "    Uninstalling jmespath-0.9.4:\n",
            "      Successfully uninstalled jmespath-0.9.4\n",
            "  Found existing installation: botocore 1.12.189\n",
            "    Uninstalling botocore-1.12.189:\n",
            "      Successfully uninstalled botocore-1.12.189\n",
            "  Found existing installation: rsa 4.0\n",
            "    Uninstalling rsa-4.0:\n",
            "      Successfully uninstalled rsa-4.0\n",
            "Successfully installed awscli-1.6.2 backports.ssl-match-hostname-3.7.0.1 bcdoc-0.12.2 boto-2.33.0 botocore-0.73.0 certifi-2015.4.28 colorama-0.2.5 decorator-4.0.9 genson-0.1.0 graphlab-create-2.1 jmespath-0.5.0 jsonschema-2.5.1 multipledispatch-0.6.0 psclient-2.0 requests-2.9.1 rsa-3.1.2 sseclient-0.0.8 tornado-4.3\n"
          ],
          "name": "stdout"
        },
        {
          "output_type": "display_data",
          "data": {
            "application/vnd.colab-display-data+json": {
              "pip_warning": {
                "packages": [
                  "backports",
                  "decorator",
                  "tornado"
                ]
              }
            }
          },
          "metadata": {
            "tags": []
          }
        }
      ]
    },
    {
      "cell_type": "code",
      "metadata": {
        "id": "1-IIqpxt7EcL",
        "colab_type": "code",
        "colab": {}
      },
      "source": [
        "import turicreate"
      ],
      "execution_count": 1,
      "outputs": []
    },
    {
      "cell_type": "code",
      "metadata": {
        "id": "hzYqt7Aw9R8y",
        "colab_type": "code",
        "colab": {}
      },
      "source": [
        "import graphlab"
      ],
      "execution_count": 1,
      "outputs": []
    }
  ]
}